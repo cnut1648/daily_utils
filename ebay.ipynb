{
 "cells": [
  {
   "cell_type": "code",
   "execution_count": 1,
   "metadata": {},
   "outputs": [],
   "source": [
    "from IPython.display import Markdown, display\n",
    "import pandas as pd"
   ]
  },
  {
   "cell_type": "code",
   "execution_count": 2,
   "metadata": {},
   "outputs": [],
   "source": [
    "data = pd.DataFrame([\n",
    "    [\"SSD\", 81, 87.03, 12.24, 67.21, \"electronic\"],\n",
    "    [\"白虎\", 227.5, 274.69, 37.76, 199.52, \"toy\"],\n",
    "    [\"机核奥伯龙\", 60, 75.87, 10.72, 51.07, \"toy\"],\n",
    "], columns=[\n",
    "    \"name\", \n",
    "    # subtotal w/o shipping and tax\n",
    "    \"sold_value\", \n",
    "    # subtotal w/ shipping and tax\n",
    "    \"total_value\", \n",
    "    # processing fee\n",
    "    \"fee\", \n",
    "    # actual money I have\n",
    "    \"received\", \n",
    "    \"item_type\"])\n",
    "data[\"eBay % on sold value\"] = (data.sold_value - data.received) / data.sold_value \n",
    "data[\"eBay % on total value\"] = data.fee / data.total_value "
   ]
  },
  {
   "cell_type": "code",
   "execution_count": 3,
   "metadata": {},
   "outputs": [
    {
     "data": {
      "text/markdown": [
       "# eBay Sales\n",
       "|   name   |sold_value|total_value| fee |received|item_type |eBay % on sold value|eBay % on total value|\n",
       "|----------|---------:|----------:|----:|-------:|----------|--------------------|---------------------|\n",
       "|SSD       |      81.0|      87.03|12.24|   67.21|electronic|17.02%              |14.06%               |\n",
       "|白虎      |     227.5|     274.69|37.76|  199.52|toy       |12.30%              |13.75%               |\n",
       "|机核奥伯龙|      60.0|      75.87|10.72|   51.07|toy       |14.88%              |14.13%               |\n"
      ],
      "text/plain": [
       "<IPython.core.display.Markdown object>"
      ]
     },
     "metadata": {},
     "output_type": "display_data"
    },
    {
     "data": {
      "text/markdown": [
       "# Average eBay Fees by Type\n",
       "|   Type   |Avg eBay % on sold value|Avg eBay % on total value|\n",
       "|----------|------------------------|-------------------------|\n",
       "|electronic|17.02%                  |14.06%                   |\n",
       "|toy       |13.59%                  |13.94%                   |\n"
      ],
      "text/plain": [
       "<IPython.core.display.Markdown object>"
      ]
     },
     "metadata": {},
     "output_type": "display_data"
    }
   ],
   "source": [
    "\"\"\"\n",
    "Use pytablewriter to print the table:\n",
    "- ID\n",
    "- Name\n",
    "- Sold value (subtotal w/o shipping and tax)\n",
    "- Actual money i have\n",
    "- Type\n",
    "- Percantage charged by ebay\n",
    "\n",
    "Also print the table of avg percentage charged by ebay for each type:\n",
    "- Type\n",
    "- Avg percentage charged by ebay\n",
    "\"\"\"\n",
    "import pytablewriter as ptw\n",
    "\n",
    "ebay_sales_table = data.copy()\n",
    "ebay_sales_table[\"eBay % on sold value\"] = (ebay_sales_table[\"eBay % on sold value\"] * 100).map('{:.2f}%'.format)\n",
    "ebay_sales_table[\"eBay % on total value\"] = (ebay_sales_table[\"eBay % on total value\"] * 100).map('{:.2f}%'.format)\n",
    "writer = ptw.MarkdownTableWriter(\n",
    "    table_name=\"eBay Sales\",\n",
    "    headers=[\"name\", \"sold_value\", \"total_value\", \"fee\", \"received\", \"item_type\", \"eBay % on sold value\", \"eBay % on total value\"],\n",
    "    value_matrix=ebay_sales_table.values.tolist()\n",
    ")\n",
    "display(Markdown(writer.dumps()))\n",
    "\n",
    "# Calculate average percentage by type\n",
    "avg_by_type = data.groupby('item_type')[['eBay % on sold value', 'eBay % on total value']].mean().reset_index()\n",
    "\n",
    "# Format the averages with % symbol\n",
    "avg_by_type[\"eBay % on sold value\"] = (avg_by_type[\"eBay % on sold value\"] * 100).map('{:.2f}%'.format)\n",
    "avg_by_type[\"eBay % on total value\"] = (avg_by_type[\"eBay % on total value\"] * 100).map('{:.2f}%'.format)\n",
    "\n",
    "# Create the second table\n",
    "writer = ptw.MarkdownTableWriter(\n",
    "    table_name=\"Average eBay Fees by Type\",\n",
    "    headers=[\"Type\", \"Avg eBay % on sold value\", \"Avg eBay % on total value\"],\n",
    "    value_matrix=avg_by_type.values.tolist()\n",
    ")\n",
    "display(Markdown(writer.dumps()))"
   ]
  },
  {
   "cell_type": "markdown",
   "metadata": {},
   "source": [
    "Overestimate shipping wins more but \"eBay % on sold value\" will go up. But overall good thing to do"
   ]
  },
  {
   "cell_type": "code",
   "execution_count": 50,
   "metadata": {},
   "outputs": [
    {
     "data": {
      "text/plain": [
       "38.4566"
      ]
     },
     "execution_count": 50,
     "metadata": {},
     "output_type": "execute_result"
    }
   ],
   "source": [
    "274.69 * 0.14"
   ]
  },
  {
   "cell_type": "code",
   "execution_count": null,
   "metadata": {},
   "outputs": [],
   "source": []
  },
  {
   "cell_type": "code",
   "execution_count": 1,
   "metadata": {},
   "outputs": [
    {
     "data": {
      "text/plain": [
       "0.14129431923026228"
      ]
     },
     "execution_count": 1,
     "metadata": {},
     "output_type": "execute_result"
    }
   ],
   "source": [
    "10.72 / 75.87"
   ]
  },
  {
   "cell_type": "code",
   "execution_count": 5,
   "metadata": {},
   "outputs": [
    {
     "data": {
      "text/plain": [
       "277.6470588235294"
      ]
     },
     "execution_count": 5,
     "metadata": {},
     "output_type": "execute_result"
    }
   ],
   "source": [
    "37.76 / 0.136"
   ]
  },
  {
   "cell_type": "code",
   "execution_count": null,
   "metadata": {},
   "outputs": [],
   "source": [
    "227.5+24.8+22.39"
   ]
  },
  {
   "cell_type": "code",
   "execution_count": 7,
   "metadata": {},
   "outputs": [
    {
     "data": {
      "text/plain": [
       "123.52941176470588"
      ]
     },
     "execution_count": 7,
     "metadata": {},
     "output_type": "execute_result"
    }
   ],
   "source": [
    "MIN_SALE_PRICE = 105\n",
    "SALE_PERCENTAGE = 0.15\n",
    "# if you should at least sell at @MIN_SALE_PRICE, and you expect ebay will charge you @SALE_PERCENTAGE, then you should set your price to be @MIN_SALE_PRICE / (1 - SALE_PERCENTAGE)\n",
    "MIN_SALE_PRICE / (1 - SALE_PERCENTAGE)"
   ]
  },
  {
   "cell_type": "code",
   "execution_count": null,
   "metadata": {},
   "outputs": [],
   "source": []
  },
  {
   "cell_type": "code",
   "execution_count": 1,
   "metadata": {},
   "outputs": [
    {
     "data": {
      "text/plain": [
       "(0.14129431923026228, 0.1374640503840693)"
      ]
     },
     "execution_count": 1,
     "metadata": {},
     "output_type": "execute_result"
    }
   ],
   "source": [
    "10.72 / 75.87, 37.76 / 274.69"
   ]
  }
 ],
 "metadata": {
  "kernelspec": {
   "display_name": "ds",
   "language": "python",
   "name": "python3"
  },
  "language_info": {
   "codemirror_mode": {
    "name": "ipython",
    "version": 3
   },
   "file_extension": ".py",
   "mimetype": "text/x-python",
   "name": "python",
   "nbconvert_exporter": "python",
   "pygments_lexer": "ipython3",
   "version": "3.13.2"
  }
 },
 "nbformat": 4,
 "nbformat_minor": 2
}
